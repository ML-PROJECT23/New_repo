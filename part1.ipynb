{
 "cells": [
  {
   "cell_type": "markdown",
   "metadata": {},
   "source": [
    "<h1><center> TEXT SUMMARIZATION PART - 1 </center> </h1>"
   ]
  },
  {
   "cell_type": "markdown",
   "metadata": {},
   "source": [
    "**DONE BY ALL TEAM MEMBERS OVER A ZOOM CALL**"
   ]
  },
  {
   "cell_type": "markdown",
   "metadata": {},
   "source": [
    "*WORKING WITH MP4 to WAV conversion*"
   ]
  },
  {
   "cell_type": "code",
   "execution_count": 1,
   "metadata": {},
   "outputs": [],
   "source": [
    "import moviepy                                      #using to convert to audio {video --> audio}\n",
    "from moviepy.editor import *                      \n",
    "\n",
    "# video = VideoFileClip('/content/GMT20200508-061804_CN-revision[Trim].mp4') #parameters can change \n",
    "# audio = video.audio \n",
    "# audio.write_audiofile('/content/mine.wav')   #can change "
   ]
  },
  {
   "cell_type": "code",
   "execution_count": 18,
   "metadata": {},
   "outputs": [],
   "source": [
    "import speech_recognition as sr    "
   ]
  },
  {
   "cell_type": "code",
   "execution_count": 19,
   "metadata": {},
   "outputs": [
    {
     "name": "stdout",
     "output_type": "stream",
     "text": [
      "3.8.1\n"
     ]
    }
   ],
   "source": [
    "print(sr.__version__) \n"
   ]
  },
  {
   "cell_type": "code",
   "execution_count": 20,
   "metadata": {},
   "outputs": [],
   "source": [
    "r = sr.Recognizer()                        #making instance of recognizer class"
   ]
  },
  {
   "cell_type": "code",
   "execution_count": 21,
   "metadata": {},
   "outputs": [],
   "source": [
    "harvard = sr.AudioFile('honey-look-at-this.wav')\n",
    "with harvard as source:\n",
    "    audio = r.record(source=source)                   #TEST CASE - 1 (WITHOUT NOISE)"
   ]
  },
  {
   "cell_type": "code",
   "execution_count": 22,
   "metadata": {},
   "outputs": [
    {
     "data": {
      "text/plain": [
       "speech_recognition.AudioData"
      ]
     },
     "execution_count": 22,
     "metadata": {},
     "output_type": "execute_result"
    }
   ],
   "source": [
    "type(audio)                                         #TEST CASE - 1   "
   ]
  },
  {
   "cell_type": "code",
   "execution_count": 23,
   "metadata": {},
   "outputs": [
    {
     "data": {
      "text/plain": [
       "'what us'"
      ]
     },
     "execution_count": 23,
     "metadata": {},
     "output_type": "execute_result"
    }
   ],
   "source": [
    "r.recognize_google(audio)                          #APi request\n"
   ]
  },
  {
   "cell_type": "code",
   "execution_count": 24,
   "metadata": {},
   "outputs": [],
   "source": [
    "# jackhammer = sr.AudioFile('/content/honey-look-at-this.wav')\n",
    "# with jackhammer as source:\n",
    "#   r.adjust_for_ambient_noise(source)\n",
    "#   audio = r.record(source, duration=0.5)\n",
    "# r.recognize_google(audio)                                    #ERROR WITH NOISY DATA -->(if any of can solve this please try)\n"
   ]
  },
  {
   "cell_type": "code",
   "execution_count": 25,
   "metadata": {},
   "outputs": [
    {
     "data": {
      "text/plain": [
       "{'alternative': [{'transcript': 'what us', 'confidence': 0.81826693},\n",
       "  {'transcript': 'what you s'},\n",
       "  {'transcript': 'what u s'},\n",
       "  {'transcript': 'are what us'},\n",
       "  {'transcript': 'us'}],\n",
       " 'final': True}"
      ]
     },
     "execution_count": 25,
     "metadata": {},
     "output_type": "execute_result"
    }
   ],
   "source": [
    "r.recognize_google(audio, show_all=True)"
   ]
  }
 ],
 "metadata": {
  "kernelspec": {
   "display_name": "Python 3",
   "language": "python",
   "name": "python3"
  },
  "language_info": {
   "codemirror_mode": {
    "name": "ipython",
    "version": 3
   },
   "file_extension": ".py",
   "mimetype": "text/x-python",
   "name": "python",
   "nbconvert_exporter": "python",
   "pygments_lexer": "ipython3",
   "version": "3.8.3"
  }
 },
 "nbformat": 4,
 "nbformat_minor": 4
}
